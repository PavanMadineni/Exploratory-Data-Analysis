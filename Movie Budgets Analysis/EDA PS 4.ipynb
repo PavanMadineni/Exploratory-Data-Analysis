{
 "cells": [
  {
   "cell_type": "markdown",
   "metadata": {},
   "source": [
    "# PS 4"
   ]
  },
  {
   "cell_type": "code",
   "execution_count": 14,
   "metadata": {},
   "outputs": [],
   "source": [
    "library(ggplot2)\n",
    "library(MASS)\n",
    "library(broom)\n",
    "library(lattice)\n",
    "library(TeachingDemos)\n",
    "library(repr)"
   ]
  },
  {
   "cell_type": "code",
   "execution_count": 5,
   "metadata": {},
   "outputs": [],
   "source": [
    "movie_budgets = read.table(file.choose(),header = T)"
   ]
  },
  {
   "cell_type": "code",
   "execution_count": 6,
   "metadata": {},
   "outputs": [
    {
     "data": {
      "text/html": [
       "<table>\n",
       "<thead><tr><th scope=col>title</th><th scope=col>year</th><th scope=col>length</th><th scope=col>budget</th><th scope=col>log_budget</th></tr></thead>\n",
       "<tbody>\n",
       "\t<tr><td>'G' Men                   </td><td>1935                      </td><td> 85                       </td><td>  450000                  </td><td>5.653213                  </td></tr>\n",
       "\t<tr><td>'Manos' the Hands of Fate </td><td>1966                      </td><td> 74                       </td><td>   19000                  </td><td>4.278754                  </td></tr>\n",
       "\t<tr><td>'Til There Was You        </td><td>1997                      </td><td>113                       </td><td>23000000                  </td><td>7.361728                  </td></tr>\n",
       "\t<tr><td>.com for Murder           </td><td>2002                      </td><td> 96                       </td><td> 5000000                  </td><td>6.698970                  </td></tr>\n",
       "\t<tr><td>10 Things I Hate About You</td><td>1999                      </td><td> 97                       </td><td>16000000                  </td><td>7.204120                  </td></tr>\n",
       "\t<tr><td>100 Mile Rule             </td><td>2002                      </td><td> 98                       </td><td> 1100000                  </td><td>6.041393                  </td></tr>\n",
       "</tbody>\n",
       "</table>\n"
      ],
      "text/latex": [
       "\\begin{tabular}{r|lllll}\n",
       " title & year & length & budget & log\\_budget\\\\\n",
       "\\hline\n",
       "\t 'G' Men                    & 1935                       &  85                        &   450000                   & 5.653213                  \\\\\n",
       "\t 'Manos' the Hands of Fate  & 1966                       &  74                        &    19000                   & 4.278754                  \\\\\n",
       "\t 'Til There Was You         & 1997                       & 113                        & 23000000                   & 7.361728                  \\\\\n",
       "\t .com for Murder            & 2002                       &  96                        &  5000000                   & 6.698970                  \\\\\n",
       "\t 10 Things I Hate About You & 1999                       &  97                        & 16000000                   & 7.204120                  \\\\\n",
       "\t 100 Mile Rule              & 2002                       &  98                        &  1100000                   & 6.041393                  \\\\\n",
       "\\end{tabular}\n"
      ],
      "text/markdown": [
       "\n",
       "title | year | length | budget | log_budget | \n",
       "|---|---|---|---|---|---|\n",
       "| 'G' Men                    | 1935                       |  85                        |   450000                   | 5.653213                   | \n",
       "| 'Manos' the Hands of Fate  | 1966                       |  74                        |    19000                   | 4.278754                   | \n",
       "| 'Til There Was You         | 1997                       | 113                        | 23000000                   | 7.361728                   | \n",
       "| .com for Murder            | 2002                       |  96                        |  5000000                   | 6.698970                   | \n",
       "| 10 Things I Hate About You | 1999                       |  97                        | 16000000                   | 7.204120                   | \n",
       "| 100 Mile Rule              | 2002                       |  98                        |  1100000                   | 6.041393                   | \n",
       "\n",
       "\n"
      ],
      "text/plain": [
       "  title                      year length budget   log_budget\n",
       "1 'G' Men                    1935  85      450000 5.653213  \n",
       "2 'Manos' the Hands of Fate  1966  74       19000 4.278754  \n",
       "3 'Til There Was You         1997 113    23000000 7.361728  \n",
       "4 .com for Murder            2002  96     5000000 6.698970  \n",
       "5 10 Things I Hate About You 1999  97    16000000 7.204120  \n",
       "6 100 Mile Rule              2002  98     1100000 6.041393  "
      ]
     },
     "metadata": {},
     "output_type": "display_data"
    }
   ],
   "source": [
    "movie_budgets$log_budget = log10(movie_budgets$budget)\n",
    "head(movie_budgets)"
   ]
  },
  {
   "cell_type": "markdown",
   "metadata": {},
   "source": [
    "# Q1"
   ]
  },
  {
   "cell_type": "markdown",
   "metadata": {},
   "source": [
    "It can be clearly observed from the graph that there is a non linear trend between log(Budget) and year/length. Hence loess or rlm is appropriate to use.\n",
    "\n",
    "Yes an interaction is needed between year and length.\n",
    "\n",
    "There isn't a great trend between log(budget) and Year alone but the trend between log(budget) and length when split by year depicts a sharp increase in budget for all the movies above length of 150 units over the years.\n",
    "\n",
    "After observing various values, a span of 0.35 appears appropriate.\n",
    "\n",
    "Robust fit is more apt for this data than Ordinary Least Squares since the curve is drastically impacted by a few outlier lengths above 150. Hence these outliers are appropriately tackled by rlm method without major impact to the curve."
   ]
  },
  {
   "cell_type": "markdown",
   "metadata": {},
   "source": [
    "# Q2"
   ]
  },
  {
   "cell_type": "code",
   "execution_count": 46,
   "metadata": {},
   "outputs": [],
   "source": [
    "length.bend = function(x) {\n",
    "  return((x - 150) * (x < 150))\n",
    "}\n",
    "movie_budgets.rlm = rlm(log_budget ~ year + length.bend(length), data = movie_budgets, psi = psi.bisquare)\n",
    "movie_budgets.grid = expand.grid(year = c(1906, 1985, 2000, 2005), length = c(50,150,250,350))\n",
    "movie_budgets.grid.predict = predict(movie_budgets.rlm, newdata = movie_budgets.grid)"
   ]
  },
  {
   "cell_type": "code",
   "execution_count": 42,
   "metadata": {},
   "outputs": [
    {
     "data": {},
     "metadata": {},
     "output_type": "display_data"
    },
    {
     "data": {
      "image/png": "[encoded data removed]",
      "text/plain": [
       "plot without title"
      ]
     },
     "metadata": {},
     "output_type": "display_data"
    }
   ],
   "source": [
    "options(repr.plot.width=8, repr.plot.height=4)\n",
    "ggplot(data.frame(movie_budgets.grid, fit = as.vector(movie_budgets.grid.predict)), \n",
    "       aes(x = length,y = fit, group = year, color = factor(year)))+ geom_line() + geom_vline(xintercept = 150) +\n",
    "ggtitle(\"log(Budget) model conditional on Year\")"
   ]
  },
  {
   "cell_type": "markdown",
   "metadata": {},
   "source": [
    "The log(Budget) increases steeply till the length of the movie is 150 units but beyond 150 it is constant for all the lengths."
   ]
  },
  {
   "cell_type": "markdown",
   "metadata": {},
   "source": [
    "# Q3"
   ]
  },
  {
   "cell_type": "code",
   "execution_count": 39,
   "metadata": {},
   "outputs": [],
   "source": [
    "mb.grid = expand.grid(year = seq(1906,2005,1), length = seq(25,400,5))\n",
    "movie.budgets.rlm = rlm(log_budget ~ year * length.bend(length), data = movie_budgets,\n",
    "                         psi = psi.bisquare)\n",
    "mb_pr = predict(movie.budgets.rlm, newdata = mb.grid)\n",
    "mb_plot_df = data.frame(mb.grid, fit = as.vector(mb_pr))"
   ]
  },
  {
   "cell_type": "code",
   "execution_count": 45,
   "metadata": {},
   "outputs": [
    {
     "data": {},
     "metadata": {},
     "output_type": "display_data"
    },
    {
     "data": {
      "image/png": "[encoded data removed]",
      "text/plain": [
       "plot without title"
      ]
     },
     "metadata": {},
     "output_type": "display_data"
    }
   ],
   "source": [
    "#rotate.wireframe(fit ~ length.bend(length) * year, data = mb_plot_df, screen = list(z = 40, x = -60, y = -48), drape = TRUE)\n",
    "wireframe(fit ~ length.bend(length) * year, data = mb_plot_df, screen = list(z = 40, x = -60, y = -48), drape = TRUE)"
   ]
  },
  {
   "cell_type": "markdown",
   "metadata": {},
   "source": [
    "This graph projects that the log(Budget) varies more with year than with length. This variation is not clearly seen in the curve obtained in Q2."
   ]
  }
 ],
 "metadata": {
  "kernelspec": {
   "display_name": "R",
   "language": "R",
   "name": "ir"
  },
  "language_info": {
   "codemirror_mode": "r",
   "file_extension": ".r",
   "mimetype": "text/x-r-source",
   "name": "R",
   "pygments_lexer": "r",
   "version": "3.4.2"
  }
 },
 "nbformat": 4,
 "nbformat_minor": 2
}
